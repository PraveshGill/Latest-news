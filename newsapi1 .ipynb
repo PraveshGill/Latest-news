{
 "cells": [
  {
   "cell_type": "code",
   "execution_count": 1,
   "metadata": {},
   "outputs": [],
   "source": [
    "import requests"
   ]
  },
  {
   "cell_type": "code",
   "execution_count": 2,
   "metadata": {},
   "outputs": [],
   "source": [
    "url=\"https://gnewsapi.herokuapp.com\""
   ]
  },
  {
   "cell_type": "code",
   "execution_count": 3,
   "metadata": {},
   "outputs": [
    {
     "name": "stdout",
     "output_type": "stream",
     "text": [
      "politics\n"
     ]
    }
   ],
   "source": [
    "news=input()"
   ]
  },
  {
   "cell_type": "code",
   "execution_count": 4,
   "metadata": {},
   "outputs": [
    {
     "name": "stdout",
     "output_type": "stream",
     "text": [
      "India\n"
     ]
    }
   ],
   "source": [
    "country=input()"
   ]
  },
  {
   "cell_type": "code",
   "execution_count": 5,
   "metadata": {},
   "outputs": [
    {
     "name": "stdout",
     "output_type": "stream",
     "text": [
      "english\n"
     ]
    }
   ],
   "source": [
    "lang=input()"
   ]
  },
  {
   "cell_type": "code",
   "execution_count": 6,
   "metadata": {},
   "outputs": [],
   "source": [
    "parameters={\n",
    "    \"news\":news,\n",
    "    \"geo-country\":country,\n",
    "    \"language\":lang\n",
    "}"
   ]
  },
  {
   "cell_type": "code",
   "execution_count": 7,
   "metadata": {},
   "outputs": [],
   "source": [
    "r=requests.get(url,params=parameters)"
   ]
  },
  {
   "cell_type": "code",
   "execution_count": 8,
   "metadata": {},
   "outputs": [],
   "source": [
    "data=r.json()"
   ]
  },
  {
   "cell_type": "code",
   "execution_count": 9,
   "metadata": {},
   "outputs": [
    {
     "data": {
      "text/plain": [
       "[{'img': 'https://t1.gstatic.com/images?q=tbn:ANd9GcQeJjTyR0XIfQfKZT5n1z8WJuzSB9CrTwbDJLg3wMzSwf2hZRFsd0Ax_L2zUvIewvedSLzacJqD',\n",
       "  'link': 'https://timesofindia.indiatimes.com/india/terrorists-storm-crpf-training-centre-in-jks-pulwama-2-injured/articleshow/62312059.cms',\n",
       "  'title': 'J&K: One jawan martyred, two injured, in terrorist attack on CRPF camp - Times of India'},\n",
       " {'img': 'https://t1.gstatic.com/images?q=tbn:ANd9GcQofrno7tEmVsJKyURrJJXDHxo09wMKkiZ0zCYNcf4xyN8FFogIApD07xRNTQB-k91dUcjBBPb3',\n",
       "  'link': 'http://www.newsworldindia.in/national/sanjay-singh-wins-race-to-represent-aap-in-rajya-sabha/284278/',\n",
       "  'title': 'Sanjay Singh Wins Race To Represent AAP In Rajya Sabha, Former Journalist Ashutosh Follows Closely Behind - News World India'},\n",
       " {'img': 'https://t2.gstatic.com/images?q=tbn:ANd9GcQXXaGPxh6BeOOEQ_JcHaZeEIy9s__i5NtyxrKnhrNYmu309Jhp3A4L8fQecAIbCfYyffMtlGPs',\n",
       "  'link': 'http://indianexpress.com/article/india/vijay-rupani-faces-patidar-anger-as-nitin-patel-stays-away-5005351/',\n",
       "  'title': 'Vijay Rupani faces Patidar anger as Nitin Patel stays away - The Indian Express'},\n",
       " {'img': 'https://t0.gstatic.com/images?q=tbn:ANd9GcT3LZkHBmLm4nta0NGHVoMS-5iPWRY-Wb9GUr5og4iFCV84zct6lnA4-NToTmGjlqCKfKf-Rhd2',\n",
       "  'link': 'https://timesofindia.indiatimes.com/india/palestine-says-india-ties-very-important-recalls-envoy-who-shared-dais-with-hafiz-saeed/articleshow/62311590.cms',\n",
       "  'title': 'Palestine says India ties very important, recalls envoy who shared dais with Hafiz Saeed - Times of India'},\n",
       " {'img': 'https://t1.gstatic.com/images?q=tbn:ANd9GcSktoe8oMN90b_-NyYGSihlWS3QfM7n63Zb0wRTModFxkmlc1LFw-_89RGfNofFZCsv54kbHr6r',\n",
       "  'link': 'http://indianexpress.com/article/cities/mumbai/hookah-may-be-on-its-way-out-kamala-mills-fire-strengthens-case-against-it-5005601/',\n",
       "  'title': 'Hookah may be on its way out, Kamala Mills fire strengthens case against it - The Indian Express'},\n",
       " {'img': 'https://t3.gstatic.com/images?q=tbn:ANd9GcRbWURcFWBDvkwUuEPhBYxYXz4TE2rhwsFhUxfA5eCxhm5HY98kIwSwthzI8thvO1-LlY0GvnqL',\n",
       "  'link': 'https://www.ndtv.com/delhi-news/4-college-students-arrested-in-delhi-as-part-of-new-year-drugs-crackdown-1793848',\n",
       "  'title': '4 College Students Arrested In Delhi As Part Of New Year Drugs Crackdown - NDTV'},\n",
       " {'img': 'https://t0.gstatic.com/images?q=tbn:ANd9GcQfZSHnDBs7p8HeVxe8jwJ3HoqpAbjyv2blM1K4YBUCKhdLwM2IHqLibywFtjOn8WYk_pn4OQsf',\n",
       "  'link': 'http://zeenews.india.com/india/22-minors-taken-to-france-go-missing-fir-registered-cbi-2070770.html',\n",
       "  'title': '22 minors taken to France go missing, FIR registered: CBI - Zee News'},\n",
       " {'img': 'https://t2.gstatic.com/images?q=tbn:ANd9GcQAaXSSSa2swslbhkDH3D-8H4l4MovVUCY5apEvkcw_j9tFcOANcBNJ8tFCUYq-CXRV5NTtNMee',\n",
       "  'link': 'https://timesofindia.indiatimes.com/india/bjp-leadership-in-no-mood-to-entertain-sulking-satraps/articleshow/62311968.cms',\n",
       "  'title': 'BJP leadership in no mood to entertain sulking satraps - Times of India'},\n",
       " {'img': 'https://t0.gstatic.com/images?q=tbn:ANd9GcS-eOb_eb5Nuaz8hkSPcc02h815Bq6m8VKwE8F4o2HfrhN_QZYGS9v3fggq5jkPPheVSMTLMPb1',\n",
       "  'link': 'http://www.news18.com/news/politics/only-one-mgr-one-amma-ttv-dinakaran-dismisses-rajinikanth-hype-1618865.html',\n",
       "  'title': \"'Only One MGR, One Amma': Dinakaran Dismisses Rajinikanth 'Hype' - News18\"},\n",
       " {'img': 'https://t1.gstatic.com/images?q=tbn:ANd9GcSWxpzFAt7foA0PgnCKDfaQf_XmtJ2YsvwWjzWjPthR_BLznRfn9X0vQipIMytghoJMAtqbYYjG',\n",
       "  'link': 'http://indianexpress.com/article/india/kargil-widow-dies-son-says-hospital-wanted-aadhaar-card-to-start-treatment-5005536/',\n",
       "  'title': 'Kargil widow dies, son says hospital wanted Aadhaar card to start treatment - The Indian Express'}]"
      ]
     },
     "execution_count": 9,
     "metadata": {},
     "output_type": "execute_result"
    }
   ],
   "source": [
    "data"
   ]
  },
  {
   "cell_type": "code",
   "execution_count": 10,
   "metadata": {},
   "outputs": [
    {
     "name": "stdout",
     "output_type": "stream",
     "text": [
      "1 J&K: One jawan martyred, two injured, in terrorist attack on CRPF camp - Times of India\n",
      "2 Sanjay Singh Wins Race To Represent AAP In Rajya Sabha, Former Journalist Ashutosh Follows Closely Behind - News World India\n",
      "3 Vijay Rupani faces Patidar anger as Nitin Patel stays away - The Indian Express\n",
      "4 Palestine says India ties very important, recalls envoy who shared dais with Hafiz Saeed - Times of India\n",
      "5 Hookah may be on its way out, Kamala Mills fire strengthens case against it - The Indian Express\n",
      "6 4 College Students Arrested In Delhi As Part Of New Year Drugs Crackdown - NDTV\n",
      "7 22 minors taken to France go missing, FIR registered: CBI - Zee News\n",
      "8 BJP leadership in no mood to entertain sulking satraps - Times of India\n",
      "9 'Only One MGR, One Amma': Dinakaran Dismisses Rajinikanth 'Hype' - News18\n",
      "10 Kargil widow dies, son says hospital wanted Aadhaar card to start treatment - The Indian Express\n"
     ]
    }
   ],
   "source": [
    "for i in range(len(data)):\n",
    "    print(i+1,data[i]['title'],sep=\" \")"
   ]
  }
 ],
 "metadata": {
  "kernelspec": {
   "display_name": "Python 3",
   "language": "python",
   "name": "python3"
  },
  "language_info": {
   "codemirror_mode": {
    "name": "ipython",
    "version": 3
   },
   "file_extension": ".py",
   "mimetype": "text/x-python",
   "name": "python",
   "nbconvert_exporter": "python",
   "pygments_lexer": "ipython3",
   "version": "3.6.4"
  }
 },
 "nbformat": 4,
 "nbformat_minor": 2
}
